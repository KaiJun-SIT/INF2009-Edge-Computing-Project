{
  "cells": [
    {
      "cell_type": "code",
      "execution_count": 2,
      "metadata": {
        "id": "ppO3QcOTLfrE"
      },
      "outputs": [
        {
          "name": "stdout",
          "output_type": "stream",
          "text": [
            "Extracting Anomaly-Videos-Part-1.zip...\n",
            "Extracting Anomaly-Videos-Part-2.zip...\n",
            "Extracting Anomaly-Videos-Part-3.zip...\n",
            "Extracting Anomaly-Videos-Part-4.zip...\n",
            "All files extracted successfully!\n"
          ]
        }
      ],
      "source": [
        "import zipfile\n",
        "import os\n",
        "\n",
        "# List of zip files\n",
        "zip_files = [\n",
        "    'Anomaly-Videos-Part-1.zip',\n",
        "    'Anomaly-Videos-Part-2.zip',\n",
        "    'Anomaly-Videos-Part-3.zip',\n",
        "    'Anomaly-Videos-Part-4.zip'\n",
        "]\n",
        "\n",
        "# Output directory to extract files\n",
        "output_dir = 'anomaly_dataset'\n",
        "\n",
        "# Make sure output directory exists\n",
        "os.makedirs(output_dir, exist_ok=True)\n",
        "\n",
        "# Loop to extract each zip file\n",
        "for zip_file in zip_files:\n",
        "    with zipfile.ZipFile(zip_file, 'r') as zip_ref:\n",
        "        print(f\"Extracting {zip_file}...\")\n",
        "        zip_ref.extractall(output_dir)\n",
        "\n",
        "print(\"All files extracted successfully!\")\n"
      ]
    },
    {
      "cell_type": "code",
      "execution_count": 3,
      "metadata": {
        "id": "dxHT3jBOLqLX"
      },
      "outputs": [
        {
          "name": "stdout",
          "output_type": "stream",
          "text": [
            "Requirement already satisfied: opencv-python in c:\\users\\leena\\appdata\\local\\packages\\pythonsoftwarefoundation.python.3.11_qbz5n2kfra8p0\\localcache\\local-packages\\python311\\site-packages (4.10.0.84)\n",
            "Requirement already satisfied: av in c:\\users\\leena\\appdata\\local\\packages\\pythonsoftwarefoundation.python.3.11_qbz5n2kfra8p0\\localcache\\local-packages\\python311\\site-packages (12.3.0)\n",
            "Collecting imageio[ffmpeg]\n",
            "  Using cached imageio-2.37.0-py3-none-any.whl.metadata (5.2 kB)\n",
            "Requirement already satisfied: numpy>=1.21.2 in c:\\users\\leena\\appdata\\local\\packages\\pythonsoftwarefoundation.python.3.11_qbz5n2kfra8p0\\localcache\\local-packages\\python311\\site-packages (from opencv-python) (2.2.3)\n",
            "Requirement already satisfied: pillow>=8.3.2 in c:\\users\\leena\\appdata\\local\\packages\\pythonsoftwarefoundation.python.3.11_qbz5n2kfra8p0\\localcache\\local-packages\\python311\\site-packages (from imageio[ffmpeg]) (11.1.0)\n",
            "Collecting imageio-ffmpeg (from imageio[ffmpeg])\n",
            "  Using cached imageio_ffmpeg-0.6.0-py3-none-win_amd64.whl.metadata (1.5 kB)\n",
            "Requirement already satisfied: psutil in c:\\users\\leena\\appdata\\local\\packages\\pythonsoftwarefoundation.python.3.11_qbz5n2kfra8p0\\localcache\\local-packages\\python311\\site-packages (from imageio[ffmpeg]) (5.9.8)\n",
            "Using cached imageio-2.37.0-py3-none-any.whl (315 kB)\n",
            "Using cached imageio_ffmpeg-0.6.0-py3-none-win_amd64.whl (31.2 MB)\n",
            "Installing collected packages: imageio-ffmpeg, imageio\n",
            "Successfully installed imageio-2.37.0 imageio-ffmpeg-0.6.0\n",
            "Note: you may need to restart the kernel to use updated packages.\n"
          ]
        }
      ],
      "source": [
        "pip install opencv-python av imageio[ffmpeg]\n"
      ]
    },
    {
      "cell_type": "code",
      "execution_count": 4,
      "metadata": {},
      "outputs": [
        {
          "name": "stdout",
          "output_type": "stream",
          "text": [
            "Requirement already satisfied: av in c:\\users\\leena\\appdata\\local\\packages\\pythonsoftwarefoundation.python.3.11_qbz5n2kfra8p0\\localcache\\local-packages\\python311\\site-packages (12.3.0)\n",
            "Note: you may need to restart the kernel to use updated packages.\n"
          ]
        }
      ],
      "source": [
        "pip install av"
      ]
    },
    {
      "cell_type": "code",
      "execution_count": 15,
      "metadata": {},
      "outputs": [],
      "source": [
        "import av\n",
        "import glob\n",
        "import os\n",
        "import time\n",
        "import tqdm\n",
        "import datetime\n",
        "import argparse\n",
        "import numpy as np\n",
        "from PIL import Image\n",
        "from tqdm.autonotebook import tqdm\n"
      ]
    },
    {
      "cell_type": "code",
      "execution_count": null,
      "metadata": {
        "id": "BJEavZjGLx5c"
      },
      "outputs": [],
      "source": [
        "# def video_to_frame(path,out_path):\n",
        "#     vidcap = cv2.VideoCapture(path)\n",
        "#     success,image = vidcap.read()\n",
        "#     count = 0\n",
        "#     while success:\n",
        "#       cv2.imwrite(os.path.join(out_path,\"{}.jpg\".format(count)), image)\n",
        "#       success,image = vidcap.read()\n",
        "#       count += 1"
      ]
    },
    {
      "cell_type": "code",
      "execution_count": null,
      "metadata": {
        "id": "kJ_JWODgL3Nh"
      },
      "outputs": [],
      "source": [
        "# def extract_frames(video_path):\n",
        "#     frames = []\n",
        "#     video = av.open(video_path)\n",
        "#     for frame in video.decode(0):\n",
        "#         yield frame.to_image()"
      ]
    },
    {
      "cell_type": "code",
      "execution_count": 16,
      "metadata": {},
      "outputs": [],
      "source": [
        "# Function to extract uniformly sampled frames (handles short videos too)\n",
        "def extract_uniform_frames(video_path, num_frames=16):\n",
        "    try:\n",
        "        container = av.open(video_path)\n",
        "        stream = container.streams.video[0]\n",
        "        total_frames = stream.frames  # Total frames in video\n",
        "\n",
        "        if total_frames == 0:  # Handle empty/corrupt videos\n",
        "            print(f\" No frames found in video: {video_path}\")\n",
        "            return []\n",
        "\n",
        "        # If total frames are fewer than num_frames, adjust\n",
        "        if total_frames < num_frames:\n",
        "            frame_indices = np.linspace(0, total_frames - 1, num=total_frames, dtype=int)\n",
        "        else:\n",
        "            frame_indices = np.linspace(0, total_frames - 1, num=num_frames, dtype=int)\n",
        "\n",
        "        frames = []\n",
        "        idx_set = set(frame_indices)\n",
        "        for idx, frame in enumerate(container.decode(video=0)):\n",
        "            if idx in idx_set:\n",
        "                frames.append(frame.to_image())\n",
        "            if idx > frame_indices[-1]:\n",
        "                break\n",
        "\n",
        "        # Handle very short videos: duplicate last frame to fill up to num_frames\n",
        "        while len(frames) < num_frames and frames:\n",
        "            frames.append(frames[-1])\n",
        "\n",
        "        return frames\n",
        "\n",
        "    except Exception as e:\n",
        "        print(f\"❌ Error processing {video_path}: {e}\")\n",
        "        return []"
      ]
    },
    {
      "cell_type": "code",
      "execution_count": 17,
      "metadata": {
        "id": "AI2b5lugL4i3"
      },
      "outputs": [
        {
          "data": {
            "application/vnd.jupyter.widget-view+json": {
              "model_id": "84dbac5a8fe0440a8e7ad3b8a6931d8a",
              "version_major": 2,
              "version_minor": 0
            },
            "text/plain": [
              "Processing Dataset Parts:   0%|          | 0/4 [00:00<?, ?it/s]"
            ]
          },
          "metadata": {},
          "output_type": "display_data"
        },
        {
          "data": {
            "application/vnd.jupyter.widget-view+json": {
              "model_id": "3dc158196f744de59877e0b428997dc4",
              "version_major": 2,
              "version_minor": 0
            },
            "text/plain": [
              "Processing Anomaly-Videos-Part-1:   0%|          | 0/4 [00:00<?, ?it/s]"
            ]
          },
          "metadata": {},
          "output_type": "display_data"
        },
        {
          "data": {
            "application/vnd.jupyter.widget-view+json": {
              "model_id": "3730d057526c4f1099d9a07281aa8754",
              "version_major": 2,
              "version_minor": 0
            },
            "text/plain": [
              "Processing Anomaly-Videos-Part-2:   0%|          | 0/2 [00:00<?, ?it/s]"
            ]
          },
          "metadata": {},
          "output_type": "display_data"
        },
        {
          "data": {
            "application/vnd.jupyter.widget-view+json": {
              "model_id": "a5a37feb1c4b4d4eb8b37515b55d729a",
              "version_major": 2,
              "version_minor": 0
            },
            "text/plain": [
              "Processing Anomaly-Videos-Part-3:   0%|          | 0/2 [00:00<?, ?it/s]"
            ]
          },
          "metadata": {},
          "output_type": "display_data"
        },
        {
          "data": {
            "application/vnd.jupyter.widget-view+json": {
              "model_id": "5c219a62aa5a43439b9868fa1989c4a5",
              "version_major": 2,
              "version_minor": 0
            },
            "text/plain": [
              "Processing Anomaly-Videos-Part-4:   0%|          | 0/2 [00:00<?, ?it/s]"
            ]
          },
          "metadata": {},
          "output_type": "display_data"
        }
      ],
      "source": [
        "# ✅ Main extraction loop based on dataset structure\n",
        "path = 'anomaly_dataset'  # Your dataset root path\n",
        "result = 'anomaly_frame_dataset'  # Output path for frames\n",
        "video_extensions = ['.mp4', '.avi', '.mov', '.mkv']  # Video file types to consider\n",
        "\n",
        "# ✅ Loop over Parts (e.g., Anomaly-Videos-Part-1 to Part-4)\n",
        "for part in tqdm(os.listdir(path), desc=\"Processing Dataset Parts\"):\n",
        "    part_path = os.path.join(path, part)\n",
        "    result_part_path = os.path.join(result, part)\n",
        "    os.makedirs(result_part_path, exist_ok=True)\n",
        "\n",
        "    # ✅ Loop over categories (e.g., Abuse, Arrest, Explosion)\n",
        "    for category in tqdm(os.listdir(part_path), desc=f\"Processing {part}\", leave=False):\n",
        "        category_path = os.path.join(part_path, category)\n",
        "        result_category_path = os.path.join(result_part_path, category)\n",
        "        os.makedirs(result_category_path, exist_ok=True)\n",
        "\n",
        "        # ✅ Loop over video files inside each category\n",
        "        for video_file in os.listdir(category_path):\n",
        "            vid_path = os.path.join(category_path, video_file)\n",
        "            result_video_path = os.path.join(result_category_path, video_file[:-4])  # Output folder per video\n",
        "            os.makedirs(result_video_path, exist_ok=True)\n",
        "\n",
        "            # ✅ Check if it's a video file (skip directories or other file types)\n",
        "            if not os.path.isfile(vid_path) or not any(video_file.lower().endswith(ext) for ext in video_extensions):\n",
        "                print(f\"⚠️ Skipping non-video file or directory: {vid_path}\")\n",
        "                continue\n",
        "\n",
        "            # ✅ Extract and save frames\n",
        "            frames = extract_uniform_frames(vid_path, num_frames=16)\n",
        "            if frames:  # Save if frames were successfully extracted\n",
        "                for idx, frame in enumerate(frames):\n",
        "                    frame.save(os.path.join(result_video_path, f\"{idx}.jpg\"))"
      ]
    },
    {
      "cell_type": "markdown",
      "metadata": {},
      "source": [
        "# Process normal videos"
      ]
    },
    {
      "cell_type": "code",
      "execution_count": 19,
      "metadata": {},
      "outputs": [
        {
          "name": "stdout",
          "output_type": "stream",
          "text": [
            "Extracting Normal_Videos_for_Event_Recognition.zip...\n",
            "All files extracted successfully!\n"
          ]
        }
      ],
      "source": [
        "import zipfile\n",
        "import os\n",
        "\n",
        "# List of zip files\n",
        "zip_file = 'Normal_Videos_for_Event_Recognition.zip'\n",
        "\n",
        "\n",
        "# Output directory to extract files\n",
        "output_dir = 'normal_dataset'\n",
        "\n",
        "# Make sure output directory exists\n",
        "os.makedirs(output_dir, exist_ok=True)\n",
        "\n",
        "\n",
        "with zipfile.ZipFile(zip_file, 'r') as zip_ref:\n",
        "    print(f\"Extracting {zip_file}...\")\n",
        "    zip_ref.extractall(output_dir)\n",
        "\n",
        "print(\"All files extracted successfully!\")\n"
      ]
    },
    {
      "cell_type": "code",
      "execution_count": 20,
      "metadata": {},
      "outputs": [
        {
          "data": {
            "application/vnd.jupyter.widget-view+json": {
              "model_id": "9ec5e515ea7147ddb6f9c07f58cf0897",
              "version_major": 2,
              "version_minor": 0
            },
            "text/plain": [
              "Processing Normal Videos:   0%|          | 0/50 [00:00<?, ?it/s]"
            ]
          },
          "metadata": {},
          "output_type": "display_data"
        }
      ],
      "source": [
        "# ✅ Paths\n",
        "input_path = 'normal_dataset/Normal_Videos_for_Event_Recognition'  # Input path containing all normal videos\n",
        "output_path = 'normal_frame_dataset'  # Output path to save extracted frames\n",
        "os.makedirs(output_path, exist_ok=True)\n",
        "\n",
        "video_extensions = ['.mp4', '.avi', '.mov', '.mkv']  # Supported video formats\n",
        "\n",
        "# ✅ Process each video file\n",
        "for video_file in tqdm(os.listdir(input_path), desc=\"Processing Normal Videos\"):\n",
        "    vid_path = os.path.join(input_path, video_file)\n",
        "\n",
        "    # ✅ Skip non-video files\n",
        "    if not os.path.isfile(vid_path) or not any(video_file.lower().endswith(ext) for ext in video_extensions):\n",
        "        print(f\"⚠️ Skipping non-video file: {vid_path}\")\n",
        "        continue\n",
        "\n",
        "    # ✅ Create output folder for each video\n",
        "    result_video_path = os.path.join(output_path, video_file[:-4])  # Remove .mp4 extension\n",
        "    os.makedirs(result_video_path, exist_ok=True)\n",
        "\n",
        "    # ✅ Extract and save frames\n",
        "    frames = extract_uniform_frames(vid_path, num_frames=16)\n",
        "    if frames:\n",
        "        for idx, frame in enumerate(frames):\n",
        "            frame.save(os.path.join(result_video_path, f\"{idx}.jpg\"))\n"
      ]
    },
    {
      "cell_type": "code",
      "execution_count": null,
      "metadata": {
        "id": "UTtNLnTILnxq"
      },
      "outputs": [],
      "source": [
        "# path = '/content/Dataset'\n",
        "# res = '/content/crime16'\n",
        "# #Number\n",
        "# seq_length = 16\n",
        "\n",
        "# def preprocess_data(seq_length,path,res):\n",
        "#   dir = os.listdir(path)\n",
        "#   for i in tqdm(dir):\n",
        "#       p1 = os.path.join(path,i)\n",
        "#       r1 = os.path.join(res,i)\n",
        "#       os.makedirs(r1,exist_ok = True)\n",
        "#       for j in os.listdir(p1):\n",
        "#           p2 = os.path.join(p1,j)\n",
        "#           r2 = os.path.join(r1,j)\n",
        "#           l = 0\n",
        "#           skip_length = int(len(os.listdir(p2))/seq_length)\n",
        "#           for m in range(10):\n",
        "#               k = m\n",
        "#               while(l!=seq_length):\n",
        "\n",
        "#                   p3 = os.path.join(p2,str(k) + \".jpg\")\n",
        "#                   try:\n",
        "#                       img = cv2.imread(p3)\n",
        "#                       img = cv2.resize(img,(128,128))\n",
        "#                   except:\n",
        "#                       print(p3)\n",
        "#                   if(k==0):\n",
        "#                       img1 = img\n",
        "#                   else:\n",
        "#                       img1 = np.append(img1,img,axis = 1)\n",
        "#                   k = k+skip_length\n",
        "#                   l = l+1\n",
        "#               cv2.imwrite(r2 + str(m)+\".jpg\",img1)\n"
      ]
    },
    {
      "cell_type": "code",
      "execution_count": 27,
      "metadata": {},
      "outputs": [],
      "source": [
        "import os\n",
        "from PIL import Image\n",
        "import torch\n",
        "from torch.utils.data import Dataset\n",
        "from torchvision import transforms\n",
        "import numpy as np\n",
        "\n",
        "class VideoFrameDataset(Dataset):\n",
        "    def __init__(self, root_dir, seq_length=16, transform=None):\n",
        "        self.root_dir = root_dir\n",
        "        self.seq_length = seq_length\n",
        "        self.transform = transform\n",
        "\n",
        "        # ✅ Only collect folders that contain frame files\n",
        "        self.video_folders = []\n",
        "        for root, dirs, files in os.walk(root_dir):\n",
        "            if len(files) > 0:  # This folder has files (frames)\n",
        "                self.video_folders.append(root)\n",
        "\n",
        "        print(f\"✅ Found {len(self.video_folders)} video frame folders.\")\n",
        "\n",
        "    def __len__(self):\n",
        "        return len(self.video_folders)\n",
        "\n",
        "    def __getitem__(self, idx):\n",
        "        video_folder = self.video_folders[idx]\n",
        "        frame_files = sorted(os.listdir(video_folder))\n",
        "        total_frames = len(frame_files)\n",
        "\n",
        "        # ✅ If empty folder (shouldn't happen but for safety)\n",
        "        if total_frames == 0:\n",
        "            raise RuntimeError(f\"⚠️ Empty folder found: {video_folder}\")\n",
        "\n",
        "        # ✅ Sample frame indices\n",
        "        if total_frames < self.seq_length:\n",
        "            indices = list(range(total_frames)) + [total_frames - 1] * (self.seq_length - total_frames)\n",
        "        else:\n",
        "            indices = np.linspace(0, total_frames - 1, self.seq_length, dtype=int)\n",
        "\n",
        "        # ✅ Load and transform frames\n",
        "        frames = []\n",
        "        for i in indices:\n",
        "            frame_path = os.path.join(video_folder, frame_files[i])\n",
        "            image = Image.open(frame_path).convert('RGB')\n",
        "            if self.transform:\n",
        "                image = self.transform(image)\n",
        "            frames.append(image)\n",
        "\n",
        "        # Stack to [C, T, H, W]\n",
        "        frames = torch.stack(frames, dim=0).permute(1, 0, 2, 3)  # [T, C, H, W] -> [C, T, H, W]\n",
        "\n",
        "        # ✅ Example label: 0 for Normal, 1 for Anomaly (based on path)\n",
        "        label = self.get_label(video_folder)\n",
        "\n",
        "        return frames, label\n",
        "\n",
        "    def get_label(self, video_folder):\n",
        "        # Example rule: You can adjust this depending on your real folder names\n",
        "        if \"Normal\" in video_folder:\n",
        "            return torch.tensor(0)  # Normal class\n",
        "        else:\n",
        "            return torch.tensor(1)  # Anomaly class\n"
      ]
    },
    {
      "cell_type": "code",
      "execution_count": 28,
      "metadata": {},
      "outputs": [
        {
          "name": "stdout",
          "output_type": "stream",
          "text": [
            "✅ Found 650 video frame folders.\n"
          ]
        }
      ],
      "source": [
        "from torch.utils.data import DataLoader\n",
        "from torchvision import transforms\n",
        "\n",
        "# Image transformations\n",
        "transform = transforms.Compose([\n",
        "    transforms.Resize((128, 128)),  # Resize frames\n",
        "    transforms.ToTensor(),  # Convert to tensor\n",
        "])\n",
        "\n",
        "# Dataset and DataLoader\n",
        "dataset = VideoFrameDataset('anomaly_frame_dataset', seq_length=16, transform=transform)\n",
        "dataloader = DataLoader(dataset, batch_size=8, shuffle=True, num_workers=0)\n"
      ]
    },
    {
      "cell_type": "code",
      "execution_count": 29,
      "metadata": {},
      "outputs": [
        {
          "name": "stdout",
          "output_type": "stream",
          "text": [
            "Ultralytics 8.3.38  Python-3.11.9 torch-2.6.0+cu118 CUDA:0 (NVIDIA GeForce RTX 3050 4GB Laptop GPU, 4096MiB)\n",
            "Using device: cuda:0\n"
          ]
        }
      ],
      "source": [
        "from ultralytics.utils.torch_utils import select_device\n",
        "\n",
        "device = select_device(\"\")\n",
        "print(\"Using device:\", device)"
      ]
    },
    {
      "cell_type": "code",
      "execution_count": 42,
      "metadata": {},
      "outputs": [
        {
          "name": "stdout",
          "output_type": "stream",
          "text": [
            "Found 650 video frame folders in anomaly_frame_dataset.\n",
            "Found 50 video frame folders in normal_frame_dataset.\n",
            "Adjusted Class weights -> Normal: 7.00, Anomaly: 0.54\n",
            "Starting Training...\n",
            "Epoch [1/20] | Train Loss: 1.0614 | Val Loss: 1.9394\n",
            "Epoch [2/20] | Train Loss: 1.0631 | Val Loss: 2.3492\n",
            "Epoch [3/20] | Train Loss: 1.3757 | Val Loss: 0.4761\n",
            "Epoch [4/20] | Train Loss: 0.9670 | Val Loss: 1.1783\n",
            "Epoch [5/20] | Train Loss: 1.0474 | Val Loss: 0.3125\n",
            "Epoch [6/20] | Train Loss: 1.2391 | Val Loss: 1.9959\n",
            "Epoch [7/20] | Train Loss: 1.1080 | Val Loss: 2.7139\n",
            "Epoch [8/20] | Train Loss: 1.3821 | Val Loss: 1.8716\n",
            "Epoch [9/20] | Train Loss: 1.4422 | Val Loss: 0.5136\n",
            "Epoch [10/20] | Train Loss: 1.2802 | Val Loss: 2.1546\n",
            "Epoch [11/20] | Train Loss: 1.1316 | Val Loss: 0.4588\n",
            "Epoch [12/20] | Train Loss: 1.6406 | Val Loss: 0.6856\n",
            "Epoch [13/20] | Train Loss: 0.9690 | Val Loss: 0.4502\n",
            "Epoch [14/20] | Train Loss: 1.0249 | Val Loss: 0.3363\n",
            "Epoch [15/20] | Train Loss: 0.8087 | Val Loss: 0.2778\n",
            "Epoch [16/20] | Train Loss: 1.0002 | Val Loss: 0.4044\n",
            "Epoch [17/20] | Train Loss: 1.2480 | Val Loss: 0.7239\n",
            "Epoch [18/20] | Train Loss: 1.3224 | Val Loss: 0.7863\n",
            "Epoch [19/20] | Train Loss: 0.9849 | Val Loss: 0.2994\n",
            "Epoch [20/20] | Train Loss: 0.6639 | Val Loss: 0.3169\n",
            "Training completed!\n",
            "Model saved as 'slowfast_crime_detection_balanced.pth'.\n"
          ]
        }
      ],
      "source": [
        "# Final Balanced Training Script with Augmentation, Class Weights, and Sampler\n",
        "\n",
        "import os\n",
        "import torch\n",
        "import numpy as np\n",
        "from PIL import Image\n",
        "from torch.utils.data import Dataset, DataLoader, random_split, WeightedRandomSampler\n",
        "from torchvision import transforms\n",
        "import torch.nn as nn\n",
        "import torch.optim as optim\n",
        "from model import resnet50  # Import your SlowFast model\n",
        "from clr import OneCycle, update_lr, update_mom  # Scheduler\n",
        "\n",
        "# ------------------------- CONFIG ------------------------------\n",
        "SEQ_LENGTH = 16\n",
        "FRAME_SIZE = (128, 128)\n",
        "BATCH_SIZE = 8\n",
        "EPOCHS = 20\n",
        "LEARNING_RATE = 0.0005  # Reduced learning rate\n",
        "ANOMALY_PATH = 'anomaly_frame_dataset'\n",
        "NORMAL_PATH = 'normal_frame_dataset'\n",
        "DEVICE = torch.device('cuda' if torch.cuda.is_available() else 'cpu')\n",
        "# ---------------------------------------------------------------\n",
        "\n",
        "\n",
        "# ------------------- Dataset Definition -----------------------\n",
        "class VideoFrameDataset(Dataset):\n",
        "    def __init__(self, root_dir, label, seq_length=16, transform=None):\n",
        "        self.root_dir = root_dir\n",
        "        self.seq_length = seq_length\n",
        "        self.label = label  # 0 for normal, 1 for anomaly\n",
        "        self.transform = transform\n",
        "\n",
        "        # Collect all folders containing frames\n",
        "        self.video_folders = []\n",
        "        for root, dirs, files in os.walk(root_dir):\n",
        "            if len(files) > 0:\n",
        "                self.video_folders.append(root)\n",
        "\n",
        "        print(f\"Found {len(self.video_folders)} video frame folders in {root_dir}.\")\n",
        "\n",
        "    def __len__(self):\n",
        "        return len(self.video_folders)\n",
        "\n",
        "    def __getitem__(self, idx):\n",
        "        video_folder = self.video_folders[idx]\n",
        "        frame_files = sorted(os.listdir(video_folder))\n",
        "        total_frames = len(frame_files)\n",
        "\n",
        "        # Ensure at least seq_length frames\n",
        "        if total_frames < self.seq_length:\n",
        "            indices = list(range(total_frames)) + [total_frames - 1] * (self.seq_length - total_frames)\n",
        "        else:\n",
        "            indices = np.linspace(0, total_frames - 1, self.seq_length, dtype=int)\n",
        "\n",
        "        frames = []\n",
        "        for i in indices:\n",
        "            frame_path = os.path.join(video_folder, frame_files[i])\n",
        "            image = Image.open(frame_path).convert('RGB')\n",
        "            if self.transform:\n",
        "                image = self.transform(image)\n",
        "            frames.append(image)\n",
        "\n",
        "        # Stack and permute\n",
        "        frames = torch.stack(frames, dim=0).permute(1, 0, 2, 3)  # [C, T, H, W]\n",
        "\n",
        "        return frames, torch.tensor(self.label)\n",
        "\n",
        "\n",
        "# ------------------- Data Preparation -------------------------\n",
        "# Transformations including augmentation and normalization\n",
        "transform = transforms.Compose([\n",
        "    transforms.Resize(FRAME_SIZE),\n",
        "    transforms.RandomHorizontalFlip(),\n",
        "    transforms.ColorJitter(brightness=0.2, contrast=0.2, saturation=0.2),\n",
        "    transforms.RandomRotation(10),\n",
        "    transforms.ToTensor(),\n",
        "    transforms.Normalize(mean=[0.5, 0.5, 0.5], std=[0.5, 0.5, 0.5])\n",
        "])\n",
        "\n",
        "# Load datasets\n",
        "anomaly_dataset = VideoFrameDataset(ANOMALY_PATH, label=1, seq_length=SEQ_LENGTH, transform=transform)\n",
        "normal_dataset = VideoFrameDataset(NORMAL_PATH, label=0, seq_length=SEQ_LENGTH, transform=transform)\n",
        "\n",
        "# Combine datasets\n",
        "full_dataset = torch.utils.data.ConcatDataset([anomaly_dataset, normal_dataset])\n",
        "\n",
        "# Class counts\n",
        "anomaly_count = len(anomaly_dataset)\n",
        "normal_count = len(normal_dataset)\n",
        "total = anomaly_count + normal_count\n",
        "\n",
        "# Class weights (inverse frequency for balance)\n",
        "w_normal = total / (2 * normal_count)\n",
        "w_anomaly = total / (2 * anomaly_count)\n",
        "weights = torch.tensor([w_normal, w_anomaly]).to(DEVICE)\n",
        "print(f\"Adjusted Class weights -> Normal: {w_normal:.2f}, Anomaly: {w_anomaly:.2f}\")\n",
        "\n",
        "# Sample weights for balancing\n",
        "sample_weights = [w_anomaly] * anomaly_count + [w_normal] * normal_count\n",
        "sampler = WeightedRandomSampler(sample_weights, num_samples=len(sample_weights), replacement=True)\n",
        "\n",
        "# ------------------- Train/Validation Split -------------------\n",
        "val_split = 0.2\n",
        "num_val = int(len(full_dataset) * val_split)\n",
        "num_train = len(full_dataset) - num_val\n",
        "\n",
        "train_dataset, val_dataset = random_split(full_dataset, [num_train, num_val])\n",
        "\n",
        "# Get lengths of anomaly and normal in training dataset (estimate proportionally)\n",
        "num_anomaly = int(anomaly_count * (num_train / total))\n",
        "num_normal = int(normal_count * (num_train / total))\n",
        "\n",
        "# Recompute weights based on split\n",
        "sample_weights = [w_anomaly] * num_anomaly + [w_normal] * num_normal\n",
        "sampler = WeightedRandomSampler(sample_weights, num_samples=len(sample_weights), replacement=True)\n",
        "\n",
        "# DataLoaders\n",
        "train_loader = DataLoader(train_dataset, batch_size=BATCH_SIZE, sampler=sampler, num_workers=0)\n",
        "val_loader = DataLoader(val_dataset, batch_size=BATCH_SIZE, shuffle=False, num_workers=0)\n",
        "\n",
        "\n",
        "\n",
        "# ------------------- Model & Training Setup -------------------\n",
        "model = resnet50(class_num=2).to(DEVICE)\n",
        "criterion = nn.CrossEntropyLoss(weight=weights)\n",
        "optimizer = optim.SGD(model.parameters(), lr=LEARNING_RATE, momentum=0.9, weight_decay=1e-4)\n",
        "scheduler = OneCycle(nb=len(train_loader) * EPOCHS, max_lr=LEARNING_RATE)\n",
        "\n",
        "\n",
        "# ------------------- Training Loop -------------------\n",
        "print(\"Starting Training...\")\n",
        "for epoch in range(EPOCHS):\n",
        "    model.train()\n",
        "    running_loss = 0.0\n",
        "    for i, (inputs, labels) in enumerate(train_loader):\n",
        "        inputs, labels = inputs.to(DEVICE), labels.to(DEVICE)\n",
        "\n",
        "        # Forward\n",
        "        outputs = model(inputs)\n",
        "        loss = criterion(outputs, labels)\n",
        "\n",
        "        # Backward\n",
        "        optimizer.zero_grad()\n",
        "        loss.backward()\n",
        "        optimizer.step()\n",
        "\n",
        "        # Scheduler\n",
        "        lr, mom = scheduler.calc()\n",
        "        update_lr(optimizer, lr)\n",
        "        update_mom(optimizer, mom)\n",
        "\n",
        "        running_loss += loss.item()\n",
        "\n",
        "    # Validation\n",
        "    model.eval()\n",
        "    val_loss = 0.0\n",
        "    with torch.no_grad():\n",
        "        for inputs, labels in val_loader:\n",
        "            inputs, labels = inputs.to(DEVICE), labels.to(DEVICE)\n",
        "            outputs = model(inputs)\n",
        "            loss = criterion(outputs, labels)\n",
        "            val_loss += loss.item()\n",
        "\n",
        "    print(f\"Epoch [{epoch+1}/{EPOCHS}] | Train Loss: {running_loss/len(train_loader):.4f} | Val Loss: {val_loss/len(val_loader):.4f}\")\n",
        "\n",
        "print(\"Training completed!\")\n",
        "torch.save(model.state_dict(), 'slowfast_crime_detection_balanced.pth')\n",
        "print(\"Model saved as 'slowfast_crime_detection_balanced.pth'.\")"
      ]
    },
    {
      "cell_type": "code",
      "execution_count": 31,
      "metadata": {},
      "outputs": [
        {
          "name": "stdout",
          "output_type": "stream",
          "text": [
            "✅ Model weights saved to 'slowfast_crime_detection.pth'\n"
          ]
        }
      ],
      "source": [
        "# ✅ Save model weights after training\n",
        "torch.save(model.state_dict(), 'slowfast_crime_detection.pth')\n",
        "print(\"✅ Model weights saved to 'slowfast_crime_detection.pth'\")"
      ]
    }
  ],
  "metadata": {
    "colab": {
      "name": "videodata.ipynb",
      "provenance": []
    },
    "kernelspec": {
      "display_name": "Python 3",
      "name": "python3"
    },
    "language_info": {
      "codemirror_mode": {
        "name": "ipython",
        "version": 3
      },
      "file_extension": ".py",
      "mimetype": "text/x-python",
      "name": "python",
      "nbconvert_exporter": "python",
      "pygments_lexer": "ipython3",
      "version": "3.11.9"
    }
  },
  "nbformat": 4,
  "nbformat_minor": 0
}
